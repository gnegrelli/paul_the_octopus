{
 "cells": [
  {
   "cell_type": "markdown",
   "id": "dfd96a93",
   "metadata": {},
   "source": [
    "# FIFA World Cup Data Exploration\n",
    "\n",
    "In this notebook, we'll explore the dataset previously cleaned to try and identify features that can help us predict a match outcome. First, we should import the packages that will be used to analyse the data."
   ]
  },
  {
   "cell_type": "code",
   "execution_count": 15,
   "id": "a9379625",
   "metadata": {},
   "outputs": [],
   "source": [
    "import matplotlib.pyplot as plt\n",
    "import pandas as pd\n",
    "import seaborn as sns\n",
    "\n",
    "sns.set(rc={'figure.figsize':(8, 6)})"
   ]
  },
  {
   "cell_type": "markdown",
   "id": "1f09bfeb",
   "metadata": {},
   "source": [
    "## Datasets\n",
    "\n",
    "Let's import the datasets we have already cleaned and treated. At first, we're gonna look at the data in the _matches_ database, since it less general."
   ]
  },
  {
   "cell_type": "code",
   "execution_count": 2,
   "id": "be79c37e",
   "metadata": {},
   "outputs": [],
   "source": [
    "matches = pd.read_csv('data/WorldCupMatches_clean.csv')\n",
    "players = pd.read_csv('data/WorldCupPlayers_clean.csv')\n",
    "world_cups = pd.read_csv('data/WorldCups_clean.csv')"
   ]
  },
  {
   "cell_type": "code",
   "execution_count": 3,
   "id": "8bfd722b",
   "metadata": {},
   "outputs": [
    {
     "data": {
      "text/html": [
       "<div>\n",
       "<style scoped>\n",
       "    .dataframe tbody tr th:only-of-type {\n",
       "        vertical-align: middle;\n",
       "    }\n",
       "\n",
       "    .dataframe tbody tr th {\n",
       "        vertical-align: top;\n",
       "    }\n",
       "\n",
       "    .dataframe thead th {\n",
       "        text-align: right;\n",
       "    }\n",
       "</style>\n",
       "<table border=\"1\" class=\"dataframe\">\n",
       "  <thead>\n",
       "    <tr style=\"text-align: right;\">\n",
       "      <th></th>\n",
       "      <th>Year</th>\n",
       "      <th>Datetime</th>\n",
       "      <th>Stage</th>\n",
       "      <th>Stadium</th>\n",
       "      <th>City</th>\n",
       "      <th>Home Team Name</th>\n",
       "      <th>Home Team Goals</th>\n",
       "      <th>Away Team Goals</th>\n",
       "      <th>Away Team Name</th>\n",
       "      <th>Win conditions</th>\n",
       "      <th>Attendance</th>\n",
       "      <th>Half-time Home Goals</th>\n",
       "      <th>Half-time Away Goals</th>\n",
       "      <th>Referee</th>\n",
       "      <th>Assistant 1</th>\n",
       "      <th>Assistant 2</th>\n",
       "      <th>RoundID</th>\n",
       "      <th>MatchID</th>\n",
       "      <th>Home Team Initials</th>\n",
       "      <th>Away Team Initials</th>\n",
       "    </tr>\n",
       "  </thead>\n",
       "  <tbody>\n",
       "    <tr>\n",
       "      <th>0</th>\n",
       "      <td>1930.0</td>\n",
       "      <td>13 Jul 1930 - 15:00</td>\n",
       "      <td>Group 1</td>\n",
       "      <td>Pocitos</td>\n",
       "      <td>Montevideo</td>\n",
       "      <td>France</td>\n",
       "      <td>4.0</td>\n",
       "      <td>1.0</td>\n",
       "      <td>Mexico</td>\n",
       "      <td></td>\n",
       "      <td>4444.0</td>\n",
       "      <td>3.0</td>\n",
       "      <td>0.0</td>\n",
       "      <td>LOMBARDI Domingo (URU)</td>\n",
       "      <td>CRISTOPHE Henry (BEL)</td>\n",
       "      <td>REGO Gilberto (BRA)</td>\n",
       "      <td>201.0</td>\n",
       "      <td>1096.0</td>\n",
       "      <td>FRA</td>\n",
       "      <td>MEX</td>\n",
       "    </tr>\n",
       "    <tr>\n",
       "      <th>1</th>\n",
       "      <td>1930.0</td>\n",
       "      <td>13 Jul 1930 - 15:00</td>\n",
       "      <td>Group 4</td>\n",
       "      <td>Parque Central</td>\n",
       "      <td>Montevideo</td>\n",
       "      <td>USA</td>\n",
       "      <td>3.0</td>\n",
       "      <td>0.0</td>\n",
       "      <td>Belgium</td>\n",
       "      <td></td>\n",
       "      <td>18346.0</td>\n",
       "      <td>2.0</td>\n",
       "      <td>0.0</td>\n",
       "      <td>MACIAS Jose (ARG)</td>\n",
       "      <td>MATEUCCI Francisco (URU)</td>\n",
       "      <td>WARNKEN Alberto (CHI)</td>\n",
       "      <td>201.0</td>\n",
       "      <td>1090.0</td>\n",
       "      <td>USA</td>\n",
       "      <td>BEL</td>\n",
       "    </tr>\n",
       "    <tr>\n",
       "      <th>2</th>\n",
       "      <td>1930.0</td>\n",
       "      <td>14 Jul 1930 - 12:45</td>\n",
       "      <td>Group 2</td>\n",
       "      <td>Parque Central</td>\n",
       "      <td>Montevideo</td>\n",
       "      <td>Yugoslavia</td>\n",
       "      <td>2.0</td>\n",
       "      <td>1.0</td>\n",
       "      <td>Brazil</td>\n",
       "      <td></td>\n",
       "      <td>24059.0</td>\n",
       "      <td>2.0</td>\n",
       "      <td>0.0</td>\n",
       "      <td>TEJADA Anibal (URU)</td>\n",
       "      <td>VALLARINO Ricardo (URU)</td>\n",
       "      <td>BALWAY Thomas (FRA)</td>\n",
       "      <td>201.0</td>\n",
       "      <td>1093.0</td>\n",
       "      <td>YUG</td>\n",
       "      <td>BRA</td>\n",
       "    </tr>\n",
       "    <tr>\n",
       "      <th>3</th>\n",
       "      <td>1930.0</td>\n",
       "      <td>14 Jul 1930 - 14:50</td>\n",
       "      <td>Group 3</td>\n",
       "      <td>Pocitos</td>\n",
       "      <td>Montevideo</td>\n",
       "      <td>Romania</td>\n",
       "      <td>3.0</td>\n",
       "      <td>1.0</td>\n",
       "      <td>Peru</td>\n",
       "      <td></td>\n",
       "      <td>2549.0</td>\n",
       "      <td>1.0</td>\n",
       "      <td>0.0</td>\n",
       "      <td>WARNKEN Alberto (CHI)</td>\n",
       "      <td>LANGENUS Jean (BEL)</td>\n",
       "      <td>MATEUCCI Francisco (URU)</td>\n",
       "      <td>201.0</td>\n",
       "      <td>1098.0</td>\n",
       "      <td>ROU</td>\n",
       "      <td>PER</td>\n",
       "    </tr>\n",
       "    <tr>\n",
       "      <th>4</th>\n",
       "      <td>1930.0</td>\n",
       "      <td>15 Jul 1930 - 16:00</td>\n",
       "      <td>Group 1</td>\n",
       "      <td>Parque Central</td>\n",
       "      <td>Montevideo</td>\n",
       "      <td>Argentina</td>\n",
       "      <td>1.0</td>\n",
       "      <td>0.0</td>\n",
       "      <td>France</td>\n",
       "      <td></td>\n",
       "      <td>23409.0</td>\n",
       "      <td>0.0</td>\n",
       "      <td>0.0</td>\n",
       "      <td>REGO Gilberto (BRA)</td>\n",
       "      <td>SAUCEDO Ulises (BOL)</td>\n",
       "      <td>RADULESCU Constantin (ROU)</td>\n",
       "      <td>201.0</td>\n",
       "      <td>1085.0</td>\n",
       "      <td>ARG</td>\n",
       "      <td>FRA</td>\n",
       "    </tr>\n",
       "  </tbody>\n",
       "</table>\n",
       "</div>"
      ],
      "text/plain": [
       "     Year              Datetime    Stage         Stadium         City  \\\n",
       "0  1930.0  13 Jul 1930 - 15:00   Group 1         Pocitos  Montevideo    \n",
       "1  1930.0  13 Jul 1930 - 15:00   Group 4  Parque Central  Montevideo    \n",
       "2  1930.0  14 Jul 1930 - 12:45   Group 2  Parque Central  Montevideo    \n",
       "3  1930.0  14 Jul 1930 - 14:50   Group 3         Pocitos  Montevideo    \n",
       "4  1930.0  15 Jul 1930 - 16:00   Group 1  Parque Central  Montevideo    \n",
       "\n",
       "  Home Team Name  Home Team Goals  Away Team Goals Away Team Name  \\\n",
       "0         France              4.0              1.0         Mexico   \n",
       "1            USA              3.0              0.0        Belgium   \n",
       "2     Yugoslavia              2.0              1.0         Brazil   \n",
       "3        Romania              3.0              1.0           Peru   \n",
       "4      Argentina              1.0              0.0         France   \n",
       "\n",
       "  Win conditions  Attendance  Half-time Home Goals  Half-time Away Goals  \\\n",
       "0                     4444.0                   3.0                   0.0   \n",
       "1                    18346.0                   2.0                   0.0   \n",
       "2                    24059.0                   2.0                   0.0   \n",
       "3                     2549.0                   1.0                   0.0   \n",
       "4                    23409.0                   0.0                   0.0   \n",
       "\n",
       "                  Referee               Assistant 1  \\\n",
       "0  LOMBARDI Domingo (URU)     CRISTOPHE Henry (BEL)   \n",
       "1       MACIAS Jose (ARG)  MATEUCCI Francisco (URU)   \n",
       "2     TEJADA Anibal (URU)   VALLARINO Ricardo (URU)   \n",
       "3   WARNKEN Alberto (CHI)       LANGENUS Jean (BEL)   \n",
       "4     REGO Gilberto (BRA)      SAUCEDO Ulises (BOL)   \n",
       "\n",
       "                  Assistant 2  RoundID  MatchID Home Team Initials  \\\n",
       "0         REGO Gilberto (BRA)    201.0   1096.0                FRA   \n",
       "1       WARNKEN Alberto (CHI)    201.0   1090.0                USA   \n",
       "2         BALWAY Thomas (FRA)    201.0   1093.0                YUG   \n",
       "3    MATEUCCI Francisco (URU)    201.0   1098.0                ROU   \n",
       "4  RADULESCU Constantin (ROU)    201.0   1085.0                ARG   \n",
       "\n",
       "  Away Team Initials  \n",
       "0                MEX  \n",
       "1                BEL  \n",
       "2                BRA  \n",
       "3                PER  \n",
       "4                FRA  "
      ]
     },
     "execution_count": 3,
     "metadata": {},
     "output_type": "execute_result"
    }
   ],
   "source": [
    "matches.head()"
   ]
  },
  {
   "cell_type": "markdown",
   "id": "efd449e5",
   "metadata": {},
   "source": [
    "Looking at the info present in _matches_, we can see that a few columns do not (or, at least, should not) interfere in the match outcome. Let's drop those columns."
   ]
  },
  {
   "cell_type": "code",
   "execution_count": 4,
   "id": "f747a0f7",
   "metadata": {},
   "outputs": [],
   "source": [
    "matches.drop(columns=['Stadium', 'City', 'Attendance', 'Referee', 'Assistant 1', 'Assistant 2'], inplace=True)"
   ]
  },
  {
   "cell_type": "markdown",
   "id": "74b888ce",
   "metadata": {},
   "source": [
    "## Home vs Away\n",
    "\n",
    "Let's analyse if there is any correlation between a team being the \"match host\" (Home Team) and the match result. We will use the following method to identify the match winners."
   ]
  },
  {
   "cell_type": "code",
   "execution_count": 34,
   "id": "515a0814",
   "metadata": {},
   "outputs": [],
   "source": [
    "def who_won(s):\n",
    "    \"\"\"Method to retrieve initials of match winner\"\"\"\n",
    "    import re\n",
    "    penalty_score_pattern = re.compile(r'\\(\\s*(\\d+)\\s*\\-\\s*(\\d+)\\s*\\)')\n",
    "    \n",
    "    # Winner during regular time\n",
    "    if s['Home Team Goals'] > s['Away Team Goals']:\n",
    "        return s['Home Team Initials']\n",
    "    elif s['Home Team Goals'] < s['Away Team Goals']:\n",
    "        return s['Away Team Initials']\n",
    "    \n",
    "    # Winner during extra time or penalties\n",
    "    if s['Home Team Name'] in s['Win conditions'].strip():\n",
    "        return s['Home Team Initials']\n",
    "    if s['Away Team Name'] in s['Win conditions'].strip():\n",
    "        return s['Away Team Initials']\n",
    "    \n",
    "    # Winner during penalties (no name in win conditions)\n",
    "    match = penalty_score_pattern.search(s['Win conditions'])\n",
    "    if match is not None:\n",
    "        home_penalties, away_penalties = map(int, match.groups())\n",
    "        if home_penalties > away_penalties:\n",
    "            return s['Home Team Initials']\n",
    "        if home_penalties < away_penalties:\n",
    "            return s['Away Team Initials']\n",
    "    \n",
    "    return '-'\n",
    "\n",
    "def home_away_won(s):\n",
    "    \"\"\"Method to retrieve if match winner was home or away team\"\"\"\n",
    "    if s['Winner Initials'] == '-':\n",
    "        return '-'\n",
    "    \n",
    "    return 'Home' if s['Winner Initials'] == s['Home Team Initials'] else 'Away'"
   ]
  },
  {
   "cell_type": "code",
   "execution_count": 7,
   "id": "691e0d78",
   "metadata": {},
   "outputs": [],
   "source": [
    "matches['Winner Initials'] = matches.apply(who_won, axis=1)\n",
    "matches['Home/Away Winner'] = matches.apply(home_away_won, axis=1)"
   ]
  },
  {
   "cell_type": "markdown",
   "id": "7eeabef4",
   "metadata": {},
   "source": [
    "Since the choice of being home or away team does not reflect to where the match will be held, this distribution of wins between Home and Away teams should be similar. However, that's not true, as the figure below shows."
   ]
  },
  {
   "cell_type": "code",
   "execution_count": 35,
   "id": "f03a9aef",
   "metadata": {},
   "outputs": [
    {
     "data": {
      "image/png": "[encoded data removed]",
      "text/plain": [
       "<Figure size 576x432 with 1 Axes>"
      ]
     },
     "metadata": {},
     "output_type": "display_data"
    }
   ],
   "source": [
    "sns.countplot(x='Home/Away Winner', data=matches)\n",
    "plt.ylabel('Win count')\n",
    "plt.show()"
   ]
  },
  {
   "cell_type": "markdown",
   "id": "da6bb212",
   "metadata": {},
   "source": [
    "If we observe this distribution accross the editions we see that the distribution is more similar on the recent editions than the first ones. However, it still seems that home teams have a little advantage over away teams.\n",
    "\n",
    "This could be explained by how FIFA arrange the teams. Usually, well-ranked teams are more likely to be labeled as the home team of a match, justifying the distribution."
   ]
  },
  {
   "cell_type": "code",
   "execution_count": 36,
   "id": "ad6b8414",
   "metadata": {},
   "outputs": [
    {
     "data": {
      "image/png": "[encoded data removed]",
      "text/plain": [
       "<Figure size 576x432 with 1 Axes>"
      ]
     },
     "metadata": {},
     "output_type": "display_data"
    }
   ],
   "source": [
    "sns.countplot(x='Year', data=matches, hue='Home/Away Winner')\n",
    "plt.xticks(rotation=90)\n",
    "plt.ylabel('Win count')\n",
    "plt.legend(loc=2)\n",
    "plt.show()"
   ]
  }
 ],
 "metadata": {
  "kernelspec": {
   "display_name": "Python 3 (ipykernel)",
   "language": "python",
   "name": "python3"
  },
  "language_info": {
   "codemirror_mode": {
    "name": "ipython",
    "version": 3
   },
   "file_extension": ".py",
   "mimetype": "text/x-python",
   "name": "python",
   "nbconvert_exporter": "python",
   "pygments_lexer": "ipython3",
   "version": "3.8.10"
  }
 },
 "nbformat": 4,
 "nbformat_minor": 5
}
