{
 "cells": [
  {
   "cell_type": "markdown",
   "metadata": {},
   "source": [
    "# Pandas Cheat Sheet\n",
    "\n",
    "This notebook presents some applications using pandas.\n",
    "\n",
    "First, we import pandas library."
   ]
  },
  {
   "cell_type": "code",
   "execution_count": 2,
   "metadata": {},
   "outputs": [],
   "source": [
    "import pandas as pd"
   ]
  },
  {
   "cell_type": "markdown",
   "metadata": {},
   "source": [
    "We then read the datasets we're going to use.\n",
    "\n",
    "These datasets were obtained from [here](https://www.kaggle.com/abecklas/fifa-world-cup/)."
   ]
  },
  {
   "cell_type": "code",
   "execution_count": 3,
   "metadata": {},
   "outputs": [],
   "source": [
    "df1 = pd.read_csv('data/WorldCupMatches.csv')"
   ]
  },
  {
   "cell_type": "markdown",
   "metadata": {},
   "source": [
    "So let's print the first few rows of the data imported."
   ]
  },
  {
   "cell_type": "code",
   "execution_count": 4,
   "metadata": {},
   "outputs": [
    {
     "data": {
      "text/html": [
       "<div>\n",
       "<style scoped>\n",
       "    .dataframe tbody tr th:only-of-type {\n",
       "        vertical-align: middle;\n",
       "    }\n",
       "\n",
       "    .dataframe tbody tr th {\n",
       "        vertical-align: top;\n",
       "    }\n",
       "\n",
       "    .dataframe thead th {\n",
       "        text-align: right;\n",
       "    }\n",
       "</style>\n",
       "<table border=\"1\" class=\"dataframe\">\n",
       "  <thead>\n",
       "    <tr style=\"text-align: right;\">\n",
       "      <th></th>\n",
       "      <th>Year</th>\n",
       "      <th>Datetime</th>\n",
       "      <th>Stage</th>\n",
       "      <th>Stadium</th>\n",
       "      <th>City</th>\n",
       "      <th>Home Team Name</th>\n",
       "      <th>Home Team Goals</th>\n",
       "      <th>Away Team Goals</th>\n",
       "      <th>Away Team Name</th>\n",
       "      <th>Win conditions</th>\n",
       "      <th>Attendance</th>\n",
       "      <th>Half-time Home Goals</th>\n",
       "      <th>Half-time Away Goals</th>\n",
       "      <th>Referee</th>\n",
       "      <th>Assistant 1</th>\n",
       "      <th>Assistant 2</th>\n",
       "      <th>RoundID</th>\n",
       "      <th>MatchID</th>\n",
       "      <th>Home Team Initials</th>\n",
       "      <th>Away Team Initials</th>\n",
       "    </tr>\n",
       "  </thead>\n",
       "  <tbody>\n",
       "    <tr>\n",
       "      <td>0</td>\n",
       "      <td>1930.0</td>\n",
       "      <td>13 Jul 1930 - 15:00</td>\n",
       "      <td>Group 1</td>\n",
       "      <td>Pocitos</td>\n",
       "      <td>Montevideo</td>\n",
       "      <td>France</td>\n",
       "      <td>4.0</td>\n",
       "      <td>1.0</td>\n",
       "      <td>Mexico</td>\n",
       "      <td></td>\n",
       "      <td>4444.0</td>\n",
       "      <td>3.0</td>\n",
       "      <td>0.0</td>\n",
       "      <td>LOMBARDI Domingo (URU)</td>\n",
       "      <td>CRISTOPHE Henry (BEL)</td>\n",
       "      <td>REGO Gilberto (BRA)</td>\n",
       "      <td>201.0</td>\n",
       "      <td>1096.0</td>\n",
       "      <td>FRA</td>\n",
       "      <td>MEX</td>\n",
       "    </tr>\n",
       "    <tr>\n",
       "      <td>1</td>\n",
       "      <td>1930.0</td>\n",
       "      <td>13 Jul 1930 - 15:00</td>\n",
       "      <td>Group 4</td>\n",
       "      <td>Parque Central</td>\n",
       "      <td>Montevideo</td>\n",
       "      <td>USA</td>\n",
       "      <td>3.0</td>\n",
       "      <td>0.0</td>\n",
       "      <td>Belgium</td>\n",
       "      <td></td>\n",
       "      <td>18346.0</td>\n",
       "      <td>2.0</td>\n",
       "      <td>0.0</td>\n",
       "      <td>MACIAS Jose (ARG)</td>\n",
       "      <td>MATEUCCI Francisco (URU)</td>\n",
       "      <td>WARNKEN Alberto (CHI)</td>\n",
       "      <td>201.0</td>\n",
       "      <td>1090.0</td>\n",
       "      <td>USA</td>\n",
       "      <td>BEL</td>\n",
       "    </tr>\n",
       "    <tr>\n",
       "      <td>2</td>\n",
       "      <td>1930.0</td>\n",
       "      <td>14 Jul 1930 - 12:45</td>\n",
       "      <td>Group 2</td>\n",
       "      <td>Parque Central</td>\n",
       "      <td>Montevideo</td>\n",
       "      <td>Yugoslavia</td>\n",
       "      <td>2.0</td>\n",
       "      <td>1.0</td>\n",
       "      <td>Brazil</td>\n",
       "      <td></td>\n",
       "      <td>24059.0</td>\n",
       "      <td>2.0</td>\n",
       "      <td>0.0</td>\n",
       "      <td>TEJADA Anibal (URU)</td>\n",
       "      <td>VALLARINO Ricardo (URU)</td>\n",
       "      <td>BALWAY Thomas (FRA)</td>\n",
       "      <td>201.0</td>\n",
       "      <td>1093.0</td>\n",
       "      <td>YUG</td>\n",
       "      <td>BRA</td>\n",
       "    </tr>\n",
       "    <tr>\n",
       "      <td>3</td>\n",
       "      <td>1930.0</td>\n",
       "      <td>14 Jul 1930 - 14:50</td>\n",
       "      <td>Group 3</td>\n",
       "      <td>Pocitos</td>\n",
       "      <td>Montevideo</td>\n",
       "      <td>Romania</td>\n",
       "      <td>3.0</td>\n",
       "      <td>1.0</td>\n",
       "      <td>Peru</td>\n",
       "      <td></td>\n",
       "      <td>2549.0</td>\n",
       "      <td>1.0</td>\n",
       "      <td>0.0</td>\n",
       "      <td>WARNKEN Alberto (CHI)</td>\n",
       "      <td>LANGENUS Jean (BEL)</td>\n",
       "      <td>MATEUCCI Francisco (URU)</td>\n",
       "      <td>201.0</td>\n",
       "      <td>1098.0</td>\n",
       "      <td>ROU</td>\n",
       "      <td>PER</td>\n",
       "    </tr>\n",
       "    <tr>\n",
       "      <td>4</td>\n",
       "      <td>1930.0</td>\n",
       "      <td>15 Jul 1930 - 16:00</td>\n",
       "      <td>Group 1</td>\n",
       "      <td>Parque Central</td>\n",
       "      <td>Montevideo</td>\n",
       "      <td>Argentina</td>\n",
       "      <td>1.0</td>\n",
       "      <td>0.0</td>\n",
       "      <td>France</td>\n",
       "      <td></td>\n",
       "      <td>23409.0</td>\n",
       "      <td>0.0</td>\n",
       "      <td>0.0</td>\n",
       "      <td>REGO Gilberto (BRA)</td>\n",
       "      <td>SAUCEDO Ulises (BOL)</td>\n",
       "      <td>RADULESCU Constantin (ROU)</td>\n",
       "      <td>201.0</td>\n",
       "      <td>1085.0</td>\n",
       "      <td>ARG</td>\n",
       "      <td>FRA</td>\n",
       "    </tr>\n",
       "  </tbody>\n",
       "</table>\n",
       "</div>"
      ],
      "text/plain": [
       "     Year              Datetime    Stage         Stadium         City  \\\n",
       "0  1930.0  13 Jul 1930 - 15:00   Group 1         Pocitos  Montevideo    \n",
       "1  1930.0  13 Jul 1930 - 15:00   Group 4  Parque Central  Montevideo    \n",
       "2  1930.0  14 Jul 1930 - 12:45   Group 2  Parque Central  Montevideo    \n",
       "3  1930.0  14 Jul 1930 - 14:50   Group 3         Pocitos  Montevideo    \n",
       "4  1930.0  15 Jul 1930 - 16:00   Group 1  Parque Central  Montevideo    \n",
       "\n",
       "  Home Team Name  Home Team Goals  Away Team Goals Away Team Name  \\\n",
       "0         France              4.0              1.0         Mexico   \n",
       "1            USA              3.0              0.0        Belgium   \n",
       "2     Yugoslavia              2.0              1.0         Brazil   \n",
       "3        Romania              3.0              1.0           Peru   \n",
       "4      Argentina              1.0              0.0         France   \n",
       "\n",
       "  Win conditions  Attendance  Half-time Home Goals  Half-time Away Goals  \\\n",
       "0                     4444.0                   3.0                   0.0   \n",
       "1                    18346.0                   2.0                   0.0   \n",
       "2                    24059.0                   2.0                   0.0   \n",
       "3                     2549.0                   1.0                   0.0   \n",
       "4                    23409.0                   0.0                   0.0   \n",
       "\n",
       "                  Referee               Assistant 1  \\\n",
       "0  LOMBARDI Domingo (URU)     CRISTOPHE Henry (BEL)   \n",
       "1       MACIAS Jose (ARG)  MATEUCCI Francisco (URU)   \n",
       "2     TEJADA Anibal (URU)   VALLARINO Ricardo (URU)   \n",
       "3   WARNKEN Alberto (CHI)       LANGENUS Jean (BEL)   \n",
       "4     REGO Gilberto (BRA)      SAUCEDO Ulises (BOL)   \n",
       "\n",
       "                  Assistant 2  RoundID  MatchID Home Team Initials  \\\n",
       "0         REGO Gilberto (BRA)    201.0   1096.0                FRA   \n",
       "1       WARNKEN Alberto (CHI)    201.0   1090.0                USA   \n",
       "2         BALWAY Thomas (FRA)    201.0   1093.0                YUG   \n",
       "3    MATEUCCI Francisco (URU)    201.0   1098.0                ROU   \n",
       "4  RADULESCU Constantin (ROU)    201.0   1085.0                ARG   \n",
       "\n",
       "  Away Team Initials  \n",
       "0                MEX  \n",
       "1                BEL  \n",
       "2                BRA  \n",
       "3                PER  \n",
       "4                FRA  "
      ]
     },
     "execution_count": 4,
     "metadata": {},
     "output_type": "execute_result"
    }
   ],
   "source": [
    "df1.head()"
   ]
  },
  {
   "cell_type": "markdown",
   "metadata": {},
   "source": [
    "As you can see, each row has and index a some information about a match played on FIFA World Cup, such as teams, score, location, attendance,referees, etc.\n",
    "\n",
    "Below, the list containing the names and the datatype of each collumn is displayed."
   ]
  },
  {
   "cell_type": "code",
   "execution_count": 8,
   "metadata": {},
   "outputs": [
    {
     "name": "stdout",
     "output_type": "stream",
     "text": [
      "Year                    float64\n",
      "Datetime                 object\n",
      "Stage                    object\n",
      "Stadium                  object\n",
      "City                     object\n",
      "Home Team Name           object\n",
      "Home Team Goals         float64\n",
      "Away Team Goals         float64\n",
      "Away Team Name           object\n",
      "Win conditions           object\n",
      "Attendance              float64\n",
      "Half-time Home Goals    float64\n",
      "Half-time Away Goals    float64\n",
      "Referee                  object\n",
      "Assistant 1              object\n",
      "Assistant 2              object\n",
      "RoundID                 float64\n",
      "MatchID                 float64\n",
      "Home Team Initials       object\n",
      "Away Team Initials       object\n",
      "dtype: object\n"
     ]
    }
   ],
   "source": [
    "print(df1.dtypes)"
   ]
  },
  {
   "cell_type": "markdown",
   "metadata": {},
   "source": [
    "So, let's say we would like to know how many World Cup matches the brazilian national team has played since its first edition, in 1930.\n",
    "\n",
    "We must first filter the original dataframe **df1** by teams, and then get the size of the filtered dataframe."
   ]
  },
  {
   "cell_type": "code",
   "execution_count": 10,
   "metadata": {},
   "outputs": [
    {
     "name": "stdout",
     "output_type": "stream",
     "text": [
      "The brazilian team has played 82 matches since 1930 FIFA World Cup\n"
     ]
    }
   ],
   "source": [
    "df_br = df1[df1['Home Team Name'] == 'Brazil']\n",
    "\n",
    "print('The brazilian team has played %d matches since 1930 FIFA World Cup.' % len(df_br))"
   ]
  },
  {
   "cell_type": "markdown",
   "metadata": {},
   "source": [
    "82 matches seems a lot, but actually we are just considering the matches where Brazil was set as the home team.\n",
    "\n",
    "To obtain the real number of matches, we must also consider the matches where Brazil was set as away team. Let's do it."
   ]
  },
  {
   "cell_type": "code",
   "execution_count": 13,
   "metadata": {},
   "outputs": [
    {
     "name": "stdout",
     "output_type": "stream",
     "text": [
      "The real number of matches played by the brazilian team is 108\n"
     ]
    }
   ],
   "source": [
    "df_br = df1[(df1['Home Team Name'] == 'Brazil') | (df1['Away Team Name'] == 'Brazil')]\n",
    "\n",
    "print('The real number of matches played by the brazilian team is %d.' % len(df_br))"
   ]
  },
  {
   "cell_type": "markdown",
   "metadata": {},
   "source": [
    "The operand `|` stands for a logic **or**, meaning that we want all rows that have Brazil on the fields `Home Team Name` or `Away Team Name`.\n",
    "\n",
    "Obs.: Notice that each filter was inside `()`. This is needed when applying multiple conditions."
   ]
  },
  {
   "cell_type": "markdown",
   "metadata": {},
   "source": [
    "## Highest and Lowest Attendances\n",
    "\n",
    "We are now interested to know which were the games with most and least public attendance. To do so, we must get the maximum and minimum value present on the column `Attendance` of our dataframe."
   ]
  },
  {
   "cell_type": "code",
   "execution_count": 23,
   "metadata": {},
   "outputs": [
    {
     "name": "stdout",
     "output_type": "stream",
     "text": [
      "The highest attendance on a WC match was 173850 people, whilst the lowest attendance was only 2000 people\n"
     ]
    }
   ],
   "source": [
    "max_att = df1['Attendance'].max()\n",
    "min_att = df1['Attendance'].min()\n",
    "\n",
    "print('The highest attendance on a WC match was %d people, whilst the '\n",
    "      'lowest attendance was only %d people' % (max_att, min_att))"
   ]
  },
  {
   "cell_type": "markdown",
   "metadata": {},
   "source": [
    "However, we would also like to know in what games those attendances occurred. First, let's find in what rows of our original dataframe these attendances are located."
   ]
  },
  {
   "cell_type": "code",
   "execution_count": 36,
   "metadata": {},
   "outputs": [
    {
     "name": "stdout",
     "output_type": "stream",
     "text": [
      "The highest and lowest attendances appear on rows #74 and #9, respectively\n"
     ]
    }
   ],
   "source": [
    "id_max_att = df1['Attendance'].idxmax()\n",
    "id_min_att = df1['Attendance'].idxmin()\n",
    "\n",
    "print('The highest and lowest attendances appear on rows #%d and #%d, respectively' % (id_max_att, id_min_att))"
   ]
  },
  {
   "cell_type": "markdown",
   "metadata": {},
   "source": [
    "Knowing the row's id, we can access the data contained in it using functions `loc` or `iloc`. Basically, the difference between those function is how the user address the columns, with the first requiring the full name of the column while the other receives the id of the columns of interest."
   ]
  },
  {
   "cell_type": "code",
   "execution_count": 48,
   "metadata": {},
   "outputs": [
    {
     "name": "stdout",
     "output_type": "stream",
     "text": [
      "The highest attendance in a FIFA World Cup match was registered in 16 Jul 1950 - 15:00  at Maracan� - Est�dio Jornalista M�rio Filho in Rio De Janeiro .\n",
      "The match was between Uruguay and Brazil and the final score was (URU) 2 x 1 (BRA)\n"
     ]
    }
   ],
   "source": [
    "date_max = df1.iloc[id_max_att, 1]\n",
    "venue_max = df1.iloc[id_max_att, 3]\n",
    "city_max = df1.iloc[id_max_att, 4]\n",
    "home_team_max = df1.iloc[id_max_att, 5]\n",
    "away_team_max = df1.iloc[id_max_att, 8]\n",
    "score_home_max = df1.iloc[id_max_att, 6]\n",
    "score_away_max = df1.iloc[id_max_att, 7]\n",
    "short_home_max = df1.iloc[id_max_att, 18]\n",
    "short_away_max = df1.iloc[id_max_att, 19]\n",
    "\n",
    "print('The highest attendance in a FIFA World Cup match was registered in %s at %s in %s.' \n",
    "      % (date_max, venue_max, city_max))\n",
    "print('The match was between %s and %s and the final score was (%s) %d x %d (%s)' \n",
    "      % (home_team_max, away_team_max, short_home_max, score_home_max, score_away_max, short_away_max))"
   ]
  },
  {
   "cell_type": "code",
   "execution_count": 52,
   "metadata": {},
   "outputs": [
    {
     "name": "stdout",
     "output_type": "stream",
     "text": [
      "The lowest attendance in a FIFA World Cup match was registered in 19 Jul 1930 - 12:50  at Estadio Centenario in Montevideo .\n",
      "The match was between Chile and France and the final score was (CHI) 1 x 0 (FRA)\n"
     ]
    }
   ],
   "source": [
    "date_min = df1.loc[id_min_att, 'Datetime']\n",
    "venue_min = df1.loc[id_min_att, 'Stadium']\n",
    "city_min = df1.loc[id_min_att, 'City']\n",
    "home_team_min = df1.loc[id_min_att, 'Home Team Name']\n",
    "away_team_min = df1.loc[id_min_att, 'Away Team Name']\n",
    "score_home_min = df1.loc[id_min_att, 'Home Team Goals']\n",
    "score_away_min = df1.loc[id_min_att, 'Away Team Goals']\n",
    "short_home_min = df1.loc[id_min_att, 'Home Team Initials']\n",
    "short_away_min = df1.loc[id_min_att, 'Away Team Initials']\n",
    "\n",
    "print('The lowest attendance in a FIFA World Cup match was registered in %s at %s in %s.' \n",
    "      % (date_min, venue_min, city_min))\n",
    "print('The match was between %s and %s and the final score was (%s) %d x %d (%s)' \n",
    "      % (home_team_min, away_team_min, short_home_min, score_home_min, score_away_min, short_away_min))"
   ]
  },
  {
   "cell_type": "markdown",
   "metadata": {},
   "source": [
    "<kbd>Alt<\\"
   ]
  }
 ],
 "metadata": {
  "kernelspec": {
   "display_name": "Python 3",
   "language": "python",
   "name": "python3"
  },
  "language_info": {
   "codemirror_mode": {
    "name": "ipython",
    "version": 3
   },
   "file_extension": ".py",
   "mimetype": "text/x-python",
   "name": "python",
   "nbconvert_exporter": "python",
   "pygments_lexer": "ipython3",
   "version": "3.6.9"
  }
 },
 "nbformat": 4,
 "nbformat_minor": 2
}
