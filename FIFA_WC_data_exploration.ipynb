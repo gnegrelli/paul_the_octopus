{
 "cells": [
  {
   "cell_type": "markdown",
   "id": "993347d1",
   "metadata": {},
   "source": [
    "# FIFA World Cup Data Exploration\n",
    "\n",
    "In this notebook, we'll explore the dataset previously cleaned to try and identify features that can help us predict a match outcome. First, we should import the packages that will be used to analyse the data."
   ]
  },
  {
   "cell_type": "code",
   "execution_count": 26,
   "id": "79e1a8b3",
   "metadata": {},
   "outputs": [],
   "source": [
    "import matplotlib.pyplot as plt\n",
    "import pandas as pd\n",
    "import re\n",
    "import seaborn as sns\n",
    "\n",
    "sns.set(rc={'figure.figsize':(8, 6)})"
   ]
  },
  {
   "cell_type": "markdown",
   "id": "cc5d293a",
   "metadata": {},
   "source": [
    "## Datasets\n",
    "\n",
    "Let's import the datasets we have already cleaned and treated. At first, we're gonna look at the data in the _matches_ database, since it less general."
   ]
  },
  {
   "cell_type": "code",
   "execution_count": 2,
   "id": "f00c9c08",
   "metadata": {},
   "outputs": [],
   "source": [
    "matches = pd.read_csv('data/WorldCupMatches_clean.csv')\n",
    "players = pd.read_csv('data/WorldCupPlayers_clean.csv')\n",
    "world_cups = pd.read_csv('data/WorldCups_clean.csv')"
   ]
  },
  {
   "cell_type": "code",
   "execution_count": 3,
   "id": "bc8cdc60",
   "metadata": {},
   "outputs": [
    {
     "data": {
      "text/html": [
       "<div>\n",
       "<style scoped>\n",
       "    .dataframe tbody tr th:only-of-type {\n",
       "        vertical-align: middle;\n",
       "    }\n",
       "\n",
       "    .dataframe tbody tr th {\n",
       "        vertical-align: top;\n",
       "    }\n",
       "\n",
       "    .dataframe thead th {\n",
       "        text-align: right;\n",
       "    }\n",
       "</style>\n",
       "<table border=\"1\" class=\"dataframe\">\n",
       "  <thead>\n",
       "    <tr style=\"text-align: right;\">\n",
       "      <th></th>\n",
       "      <th>Year</th>\n",
       "      <th>Datetime</th>\n",
       "      <th>Stage</th>\n",
       "      <th>Stadium</th>\n",
       "      <th>City</th>\n",
       "      <th>Home Team Name</th>\n",
       "      <th>Home Team Goals</th>\n",
       "      <th>Away Team Goals</th>\n",
       "      <th>Away Team Name</th>\n",
       "      <th>Win conditions</th>\n",
       "      <th>Attendance</th>\n",
       "      <th>Half-time Home Goals</th>\n",
       "      <th>Half-time Away Goals</th>\n",
       "      <th>Referee</th>\n",
       "      <th>Assistant 1</th>\n",
       "      <th>Assistant 2</th>\n",
       "      <th>RoundID</th>\n",
       "      <th>MatchID</th>\n",
       "      <th>Home Team Initials</th>\n",
       "      <th>Away Team Initials</th>\n",
       "    </tr>\n",
       "  </thead>\n",
       "  <tbody>\n",
       "    <tr>\n",
       "      <th>0</th>\n",
       "      <td>1930.0</td>\n",
       "      <td>13 Jul 1930 - 15:00</td>\n",
       "      <td>Group 1</td>\n",
       "      <td>Pocitos</td>\n",
       "      <td>Montevideo</td>\n",
       "      <td>France</td>\n",
       "      <td>4.0</td>\n",
       "      <td>1.0</td>\n",
       "      <td>Mexico</td>\n",
       "      <td></td>\n",
       "      <td>4444.0</td>\n",
       "      <td>3.0</td>\n",
       "      <td>0.0</td>\n",
       "      <td>LOMBARDI Domingo (URU)</td>\n",
       "      <td>CRISTOPHE Henry (BEL)</td>\n",
       "      <td>REGO Gilberto (BRA)</td>\n",
       "      <td>201.0</td>\n",
       "      <td>1096.0</td>\n",
       "      <td>FRA</td>\n",
       "      <td>MEX</td>\n",
       "    </tr>\n",
       "    <tr>\n",
       "      <th>1</th>\n",
       "      <td>1930.0</td>\n",
       "      <td>13 Jul 1930 - 15:00</td>\n",
       "      <td>Group 4</td>\n",
       "      <td>Parque Central</td>\n",
       "      <td>Montevideo</td>\n",
       "      <td>USA</td>\n",
       "      <td>3.0</td>\n",
       "      <td>0.0</td>\n",
       "      <td>Belgium</td>\n",
       "      <td></td>\n",
       "      <td>18346.0</td>\n",
       "      <td>2.0</td>\n",
       "      <td>0.0</td>\n",
       "      <td>MACIAS Jose (ARG)</td>\n",
       "      <td>MATEUCCI Francisco (URU)</td>\n",
       "      <td>WARNKEN Alberto (CHI)</td>\n",
       "      <td>201.0</td>\n",
       "      <td>1090.0</td>\n",
       "      <td>USA</td>\n",
       "      <td>BEL</td>\n",
       "    </tr>\n",
       "    <tr>\n",
       "      <th>2</th>\n",
       "      <td>1930.0</td>\n",
       "      <td>14 Jul 1930 - 12:45</td>\n",
       "      <td>Group 2</td>\n",
       "      <td>Parque Central</td>\n",
       "      <td>Montevideo</td>\n",
       "      <td>Yugoslavia</td>\n",
       "      <td>2.0</td>\n",
       "      <td>1.0</td>\n",
       "      <td>Brazil</td>\n",
       "      <td></td>\n",
       "      <td>24059.0</td>\n",
       "      <td>2.0</td>\n",
       "      <td>0.0</td>\n",
       "      <td>TEJADA Anibal (URU)</td>\n",
       "      <td>VALLARINO Ricardo (URU)</td>\n",
       "      <td>BALWAY Thomas (FRA)</td>\n",
       "      <td>201.0</td>\n",
       "      <td>1093.0</td>\n",
       "      <td>YUG</td>\n",
       "      <td>BRA</td>\n",
       "    </tr>\n",
       "    <tr>\n",
       "      <th>3</th>\n",
       "      <td>1930.0</td>\n",
       "      <td>14 Jul 1930 - 14:50</td>\n",
       "      <td>Group 3</td>\n",
       "      <td>Pocitos</td>\n",
       "      <td>Montevideo</td>\n",
       "      <td>Romania</td>\n",
       "      <td>3.0</td>\n",
       "      <td>1.0</td>\n",
       "      <td>Peru</td>\n",
       "      <td></td>\n",
       "      <td>2549.0</td>\n",
       "      <td>1.0</td>\n",
       "      <td>0.0</td>\n",
       "      <td>WARNKEN Alberto (CHI)</td>\n",
       "      <td>LANGENUS Jean (BEL)</td>\n",
       "      <td>MATEUCCI Francisco (URU)</td>\n",
       "      <td>201.0</td>\n",
       "      <td>1098.0</td>\n",
       "      <td>ROU</td>\n",
       "      <td>PER</td>\n",
       "    </tr>\n",
       "    <tr>\n",
       "      <th>4</th>\n",
       "      <td>1930.0</td>\n",
       "      <td>15 Jul 1930 - 16:00</td>\n",
       "      <td>Group 1</td>\n",
       "      <td>Parque Central</td>\n",
       "      <td>Montevideo</td>\n",
       "      <td>Argentina</td>\n",
       "      <td>1.0</td>\n",
       "      <td>0.0</td>\n",
       "      <td>France</td>\n",
       "      <td></td>\n",
       "      <td>23409.0</td>\n",
       "      <td>0.0</td>\n",
       "      <td>0.0</td>\n",
       "      <td>REGO Gilberto (BRA)</td>\n",
       "      <td>SAUCEDO Ulises (BOL)</td>\n",
       "      <td>RADULESCU Constantin (ROU)</td>\n",
       "      <td>201.0</td>\n",
       "      <td>1085.0</td>\n",
       "      <td>ARG</td>\n",
       "      <td>FRA</td>\n",
       "    </tr>\n",
       "  </tbody>\n",
       "</table>\n",
       "</div>"
      ],
      "text/plain": [
       "     Year              Datetime    Stage         Stadium         City  \\\n",
       "0  1930.0  13 Jul 1930 - 15:00   Group 1         Pocitos  Montevideo    \n",
       "1  1930.0  13 Jul 1930 - 15:00   Group 4  Parque Central  Montevideo    \n",
       "2  1930.0  14 Jul 1930 - 12:45   Group 2  Parque Central  Montevideo    \n",
       "3  1930.0  14 Jul 1930 - 14:50   Group 3         Pocitos  Montevideo    \n",
       "4  1930.0  15 Jul 1930 - 16:00   Group 1  Parque Central  Montevideo    \n",
       "\n",
       "  Home Team Name  Home Team Goals  Away Team Goals Away Team Name  \\\n",
       "0         France              4.0              1.0         Mexico   \n",
       "1            USA              3.0              0.0        Belgium   \n",
       "2     Yugoslavia              2.0              1.0         Brazil   \n",
       "3        Romania              3.0              1.0           Peru   \n",
       "4      Argentina              1.0              0.0         France   \n",
       "\n",
       "  Win conditions  Attendance  Half-time Home Goals  Half-time Away Goals  \\\n",
       "0                     4444.0                   3.0                   0.0   \n",
       "1                    18346.0                   2.0                   0.0   \n",
       "2                    24059.0                   2.0                   0.0   \n",
       "3                     2549.0                   1.0                   0.0   \n",
       "4                    23409.0                   0.0                   0.0   \n",
       "\n",
       "                  Referee               Assistant 1  \\\n",
       "0  LOMBARDI Domingo (URU)     CRISTOPHE Henry (BEL)   \n",
       "1       MACIAS Jose (ARG)  MATEUCCI Francisco (URU)   \n",
       "2     TEJADA Anibal (URU)   VALLARINO Ricardo (URU)   \n",
       "3   WARNKEN Alberto (CHI)       LANGENUS Jean (BEL)   \n",
       "4     REGO Gilberto (BRA)      SAUCEDO Ulises (BOL)   \n",
       "\n",
       "                  Assistant 2  RoundID  MatchID Home Team Initials  \\\n",
       "0         REGO Gilberto (BRA)    201.0   1096.0                FRA   \n",
       "1       WARNKEN Alberto (CHI)    201.0   1090.0                USA   \n",
       "2         BALWAY Thomas (FRA)    201.0   1093.0                YUG   \n",
       "3    MATEUCCI Francisco (URU)    201.0   1098.0                ROU   \n",
       "4  RADULESCU Constantin (ROU)    201.0   1085.0                ARG   \n",
       "\n",
       "  Away Team Initials  \n",
       "0                MEX  \n",
       "1                BEL  \n",
       "2                BRA  \n",
       "3                PER  \n",
       "4                FRA  "
      ]
     },
     "execution_count": 3,
     "metadata": {},
     "output_type": "execute_result"
    }
   ],
   "source": [
    "matches.head()"
   ]
  },
  {
   "cell_type": "markdown",
   "id": "f397862b",
   "metadata": {},
   "source": [
    "Looking at the info present in _matches_, we can see that a few columns do not (or, at least, should not) interfere in the match outcome. Let's drop those columns."
   ]
  },
  {
   "cell_type": "code",
   "execution_count": 4,
   "id": "4ef331e6",
   "metadata": {},
   "outputs": [],
   "source": [
    "matches.drop(columns=['Stadium', 'City', 'Attendance', 'Referee', 'Assistant 1', 'Assistant 2'], inplace=True)"
   ]
  },
  {
   "cell_type": "markdown",
   "id": "3af7338a",
   "metadata": {},
   "source": [
    "Also, to facilitate data filtering, let's remove those whitespaces form the column's names and replace the string values on column _Datetime_ to the corresponding _Timestamp_ objects."
   ]
  },
  {
   "cell_type": "code",
   "execution_count": 5,
   "id": "015a5e88",
   "metadata": {},
   "outputs": [],
   "source": [
    "matches.columns = [re.sub(r'[\\s\\-]', '_', col) for col in matches.columns]\n",
    "matches.Datetime = pd.to_datetime(matches.Datetime)"
   ]
  },
  {
   "cell_type": "markdown",
   "id": "7a1b3052",
   "metadata": {},
   "source": [
    "## Home vs Away\n",
    "\n",
    "Let's analyse if there is any correlation between a team being the \"match host\" (Home Team) and the match result. We will use the following method to identify the match winners."
   ]
  },
  {
   "cell_type": "code",
   "execution_count": 6,
   "id": "bfccad54",
   "metadata": {},
   "outputs": [],
   "source": [
    "def who_won(s):\n",
    "    \"\"\"Method to retrieve initials of match winner\"\"\"\n",
    "    penalty_score_pattern = re.compile(r'\\(\\s*(\\d+)\\s*\\-\\s*(\\d+)\\s*\\)')\n",
    "    \n",
    "    # Winner during regular time\n",
    "    if s.Home_Team_Goals > s.Away_Team_Goals:\n",
    "        return s.Home_Team_Initials\n",
    "    elif s.Home_Team_Goals < s.Away_Team_Goals:\n",
    "        return s.Away_Team_Initials\n",
    "    \n",
    "    # Winner during extra time or penalties\n",
    "    if s.Home_Team_Name in s.Win_conditions.strip():\n",
    "        return s.Home_Team_Initials\n",
    "    if s.Away_Team_Name in s.Win_conditions.strip():\n",
    "        return s.Away_Team_Initials\n",
    "    \n",
    "    # Winner during penalties (no name in win conditions)\n",
    "    match = penalty_score_pattern.search(s.Win_conditions)\n",
    "    if match is not None:\n",
    "        home_penalties, away_penalties = map(int, match.groups())\n",
    "        if home_penalties > away_penalties:\n",
    "            return s.Home_Team_Initials\n",
    "        if home_penalties < away_penalties:\n",
    "            return s.Away_Team_Initials\n",
    "    \n",
    "    return '-'\n",
    "\n",
    "def home_away_won(s):\n",
    "    \"\"\"Method to retrieve if match winner was home or away team\"\"\"\n",
    "    if s.Winner_Initials == '-':\n",
    "        return '-'\n",
    "    \n",
    "    return 'Home' if s.Winner_Initials == s.Home_Team_Initials else 'Away'"
   ]
  },
  {
   "cell_type": "code",
   "execution_count": 7,
   "id": "6be329af",
   "metadata": {},
   "outputs": [],
   "source": [
    "matches['Winner_Initials'] = matches.apply(who_won, axis=1)\n",
    "matches['Home_Away_Winner'] = matches.apply(home_away_won, axis=1)"
   ]
  },
  {
   "cell_type": "markdown",
   "id": "d5fd22d1",
   "metadata": {},
   "source": [
    "Since the choice of being home or away team does not reflect to where the match will be held, this distribution of wins between Home and Away teams should be similar. However, that's not true, as the figure below shows."
   ]
  },
  {
   "cell_type": "code",
   "execution_count": 8,
   "id": "a4f510e9",
   "metadata": {},
   "outputs": [
    {
     "data": {
      "image/png": "[encoded data removed]",
      "text/plain": [
       "<Figure size 576x432 with 1 Axes>"
      ]
     },
     "metadata": {},
     "output_type": "display_data"
    }
   ],
   "source": [
    "sns.countplot(x='Home_Away_Winner', data=matches)\n",
    "plt.ylabel('Win count')\n",
    "plt.show()"
   ]
  },
  {
   "cell_type": "markdown",
   "id": "b68647df",
   "metadata": {},
   "source": [
    "If we observe this distribution accross the editions we see that the distribution is more similar on the recent editions than the first ones. However, it still seems that home teams have a little advantage over away teams.\n",
    "\n",
    "This could be explained by how FIFA arrange the teams. Usually, well-ranked teams are more likely to be labeled as the home team of a match, justifying the distribution."
   ]
  },
  {
   "cell_type": "code",
   "execution_count": 9,
   "id": "fc6334f1",
   "metadata": {},
   "outputs": [
    {
     "data": {
      "image/png": "[encoded data removed]",
      "text/plain": [
       "<Figure size 576x432 with 1 Axes>"
      ]
     },
     "metadata": {},
     "output_type": "display_data"
    }
   ],
   "source": [
    "sns.countplot(x='Year', data=matches, hue='Home_Away_Winner')\n",
    "plt.xticks(rotation=90)\n",
    "plt.ylabel('Win count')\n",
    "plt.legend(loc=2)\n",
    "plt.show()"
   ]
  },
  {
   "cell_type": "markdown",
   "id": "2b418c5c",
   "metadata": {},
   "source": [
    "## Momentum\n",
    "\n",
    "Another feature that may influence the outcome of a match is the momentum of each team. The momentum describes how was the performance of a given team on the previous _n_ matches.\n",
    "\n",
    "To calculate the momentum, we'll only consider the previous 5 matches of a team. We will use two different strategies to calculate the momentum for further comparison:\n",
    "\n",
    "* Plus-minus strategy: a victory is awarded +1 points, a draw is awarded 0 points and a loss is awarded -1 points.\n",
    "* Three points strategy: a victory is awarded 3 points, a draw is awarded 1 point for each team and a loss is awarded 0 points.\n",
    "\n",
    "These strategies will be declared in dictionary format, as show below:"
   ]
  },
  {
   "cell_type": "code",
   "execution_count": 10,
   "id": "595983af",
   "metadata": {},
   "outputs": [],
   "source": [
    "plus_minus_strategy = {'win': 1, 'draw': 0, 'loss': -1}\n",
    "three_points_strategy = {'win': 3, 'draw': 1, 'loss': 0}"
   ]
  },
  {
   "cell_type": "markdown",
   "id": "4835c6d5",
   "metadata": {},
   "source": [
    "The method to calculate the team momentum in a given match is given by:"
   ]
  },
  {
   "cell_type": "code",
   "execution_count": 11,
   "id": "a2442095",
   "metadata": {},
   "outputs": [],
   "source": [
    "def team_momentum(team_initials: str, date: pd.Timestamp, matches: pd.DataFrame,\n",
    "                  strategy: dict = plus_minus_strategy, window: int = 5) -> int:\n",
    "    \"\"\"Method to calculate a team momentum in a given window\"\"\"\n",
    "    \n",
    "    team_matches = matches[\n",
    "        (matches.Home_Team_Initials == team_initials) |\n",
    "        (matches.Away_Team_Initials == team_initials)\n",
    "    ]\n",
    "    \n",
    "    team_prev_matches = team_matches[team_matches.Datetime < date].sort_values(by='Datetime').tail(window)\n",
    "    \n",
    "    momentum = 0\n",
    "    for match in team_prev_matches.itertuples():\n",
    "        if match.Winner_Initials == '-':\n",
    "            momentum += strategy.get('draw', 0)\n",
    "        elif match.Winner_Initials == team_initials:\n",
    "            momentum += strategy.get('win', 1)\n",
    "        else:\n",
    "            momentum += strategy.get('loss', -1)\n",
    "    \n",
    "    return momentum    "
   ]
  },
  {
   "cell_type": "markdown",
   "id": "5e10bb47",
   "metadata": {},
   "source": [
    "In order to test our _team_momentum_ method, let's grab a random match in our dataset."
   ]
  },
  {
   "cell_type": "code",
   "execution_count": 12,
   "id": "eab119e9",
   "metadata": {},
   "outputs": [
    {
     "data": {
      "text/html": [
       "<div>\n",
       "<style scoped>\n",
       "    .dataframe tbody tr th:only-of-type {\n",
       "        vertical-align: middle;\n",
       "    }\n",
       "\n",
       "    .dataframe tbody tr th {\n",
       "        vertical-align: top;\n",
       "    }\n",
       "\n",
       "    .dataframe thead th {\n",
       "        text-align: right;\n",
       "    }\n",
       "</style>\n",
       "<table border=\"1\" class=\"dataframe\">\n",
       "  <thead>\n",
       "    <tr style=\"text-align: right;\">\n",
       "      <th></th>\n",
       "      <th>Year</th>\n",
       "      <th>Datetime</th>\n",
       "      <th>Stage</th>\n",
       "      <th>Home_Team_Name</th>\n",
       "      <th>Home_Team_Goals</th>\n",
       "      <th>Away_Team_Goals</th>\n",
       "      <th>Away_Team_Name</th>\n",
       "      <th>Win_conditions</th>\n",
       "      <th>Half_time_Home_Goals</th>\n",
       "      <th>Half_time_Away_Goals</th>\n",
       "      <th>RoundID</th>\n",
       "      <th>MatchID</th>\n",
       "      <th>Home_Team_Initials</th>\n",
       "      <th>Away_Team_Initials</th>\n",
       "      <th>Winner_Initials</th>\n",
       "      <th>Home_Away_Winner</th>\n",
       "    </tr>\n",
       "  </thead>\n",
       "  <tbody>\n",
       "    <tr>\n",
       "      <th>159</th>\n",
       "      <td>1962.0</td>\n",
       "      <td>1962-06-07 15:00:00</td>\n",
       "      <td>Group 2</td>\n",
       "      <td>Italy</td>\n",
       "      <td>3.0</td>\n",
       "      <td>0.0</td>\n",
       "      <td>Switzerland</td>\n",
       "      <td></td>\n",
       "      <td>1.0</td>\n",
       "      <td>0.0</td>\n",
       "      <td>231.0</td>\n",
       "      <td>1532.0</td>\n",
       "      <td>ITA</td>\n",
       "      <td>SUI</td>\n",
       "      <td>ITA</td>\n",
       "      <td>Home</td>\n",
       "    </tr>\n",
       "  </tbody>\n",
       "</table>\n",
       "</div>"
      ],
      "text/plain": [
       "       Year            Datetime    Stage Home_Team_Name  Home_Team_Goals  \\\n",
       "159  1962.0 1962-06-07 15:00:00  Group 2          Italy              3.0   \n",
       "\n",
       "     Away_Team_Goals Away_Team_Name Win_conditions  Half_time_Home_Goals  \\\n",
       "159              0.0    Switzerland                                  1.0   \n",
       "\n",
       "     Half_time_Away_Goals  RoundID  MatchID Home_Team_Initials  \\\n",
       "159                   0.0    231.0   1532.0                ITA   \n",
       "\n",
       "    Away_Team_Initials Winner_Initials Home_Away_Winner  \n",
       "159                SUI             ITA             Home  "
      ]
     },
     "execution_count": 12,
     "metadata": {},
     "output_type": "execute_result"
    }
   ],
   "source": [
    "dt = matches.sample(random_state=13)\n",
    "dt"
   ]
  },
  {
   "cell_type": "markdown",
   "id": "a534070f",
   "metadata": {},
   "source": [
    "Looking at Italy's previous five matches, we see that they lost 3, draw 1 and won 1. That should gives them a momentum of -2 (_plus minus strategy_) and 4 (_three points strategy_)."
   ]
  },
  {
   "cell_type": "code",
   "execution_count": 13,
   "id": "445c42d8",
   "metadata": {},
   "outputs": [
    {
     "data": {
      "text/html": [
       "<div>\n",
       "<style scoped>\n",
       "    .dataframe tbody tr th:only-of-type {\n",
       "        vertical-align: middle;\n",
       "    }\n",
       "\n",
       "    .dataframe tbody tr th {\n",
       "        vertical-align: top;\n",
       "    }\n",
       "\n",
       "    .dataframe thead th {\n",
       "        text-align: right;\n",
       "    }\n",
       "</style>\n",
       "<table border=\"1\" class=\"dataframe\">\n",
       "  <thead>\n",
       "    <tr style=\"text-align: right;\">\n",
       "      <th></th>\n",
       "      <th>Year</th>\n",
       "      <th>Datetime</th>\n",
       "      <th>Stage</th>\n",
       "      <th>Home_Team_Name</th>\n",
       "      <th>Home_Team_Goals</th>\n",
       "      <th>Away_Team_Goals</th>\n",
       "      <th>Away_Team_Name</th>\n",
       "      <th>Win_conditions</th>\n",
       "      <th>Half_time_Home_Goals</th>\n",
       "      <th>Half_time_Away_Goals</th>\n",
       "      <th>RoundID</th>\n",
       "      <th>MatchID</th>\n",
       "      <th>Home_Team_Initials</th>\n",
       "      <th>Away_Team_Initials</th>\n",
       "      <th>Winner_Initials</th>\n",
       "      <th>Home_Away_Winner</th>\n",
       "    </tr>\n",
       "  </thead>\n",
       "  <tbody>\n",
       "    <tr>\n",
       "      <th>82</th>\n",
       "      <td>1954.0</td>\n",
       "      <td>1954-06-17 17:50:00</td>\n",
       "      <td>Group 4</td>\n",
       "      <td>Switzerland</td>\n",
       "      <td>2.0</td>\n",
       "      <td>1.0</td>\n",
       "      <td>Italy</td>\n",
       "      <td></td>\n",
       "      <td>1.0</td>\n",
       "      <td>1.0</td>\n",
       "      <td>211.0</td>\n",
       "      <td>1300.0</td>\n",
       "      <td>SUI</td>\n",
       "      <td>ITA</td>\n",
       "      <td>SUI</td>\n",
       "      <td>Home</td>\n",
       "    </tr>\n",
       "    <tr>\n",
       "      <th>90</th>\n",
       "      <td>1954.0</td>\n",
       "      <td>1954-06-20 17:00:00</td>\n",
       "      <td>Group 4</td>\n",
       "      <td>Italy</td>\n",
       "      <td>4.0</td>\n",
       "      <td>1.0</td>\n",
       "      <td>Belgium</td>\n",
       "      <td></td>\n",
       "      <td>1.0</td>\n",
       "      <td>0.0</td>\n",
       "      <td>211.0</td>\n",
       "      <td>1243.0</td>\n",
       "      <td>ITA</td>\n",
       "      <td>BEL</td>\n",
       "      <td>ITA</td>\n",
       "      <td>Home</td>\n",
       "    </tr>\n",
       "    <tr>\n",
       "      <th>92</th>\n",
       "      <td>1954.0</td>\n",
       "      <td>1954-06-23 18:00:00</td>\n",
       "      <td>Group 4</td>\n",
       "      <td>Switzerland</td>\n",
       "      <td>4.0</td>\n",
       "      <td>1.0</td>\n",
       "      <td>Italy</td>\n",
       "      <td></td>\n",
       "      <td>1.0</td>\n",
       "      <td>0.0</td>\n",
       "      <td>211.0</td>\n",
       "      <td>1301.0</td>\n",
       "      <td>SUI</td>\n",
       "      <td>ITA</td>\n",
       "      <td>SUI</td>\n",
       "      <td>Home</td>\n",
       "    </tr>\n",
       "    <tr>\n",
       "      <th>143</th>\n",
       "      <td>1962.0</td>\n",
       "      <td>1962-05-31 15:00:00</td>\n",
       "      <td>Group 2</td>\n",
       "      <td>Germany FR</td>\n",
       "      <td>0.0</td>\n",
       "      <td>0.0</td>\n",
       "      <td>Italy</td>\n",
       "      <td></td>\n",
       "      <td>0.0</td>\n",
       "      <td>0.0</td>\n",
       "      <td>231.0</td>\n",
       "      <td>1507.0</td>\n",
       "      <td>FRG</td>\n",
       "      <td>ITA</td>\n",
       "      <td>-</td>\n",
       "      <td>-</td>\n",
       "    </tr>\n",
       "    <tr>\n",
       "      <th>147</th>\n",
       "      <td>1962.0</td>\n",
       "      <td>1962-06-02 15:00:00</td>\n",
       "      <td>Group 2</td>\n",
       "      <td>Chile</td>\n",
       "      <td>2.0</td>\n",
       "      <td>0.0</td>\n",
       "      <td>Italy</td>\n",
       "      <td></td>\n",
       "      <td>0.0</td>\n",
       "      <td>0.0</td>\n",
       "      <td>231.0</td>\n",
       "      <td>1472.0</td>\n",
       "      <td>CHI</td>\n",
       "      <td>ITA</td>\n",
       "      <td>CHI</td>\n",
       "      <td>Home</td>\n",
       "    </tr>\n",
       "  </tbody>\n",
       "</table>\n",
       "</div>"
      ],
      "text/plain": [
       "       Year            Datetime    Stage Home_Team_Name  Home_Team_Goals  \\\n",
       "82   1954.0 1954-06-17 17:50:00  Group 4    Switzerland              2.0   \n",
       "90   1954.0 1954-06-20 17:00:00  Group 4          Italy              4.0   \n",
       "92   1954.0 1954-06-23 18:00:00  Group 4    Switzerland              4.0   \n",
       "143  1962.0 1962-05-31 15:00:00  Group 2     Germany FR              0.0   \n",
       "147  1962.0 1962-06-02 15:00:00  Group 2          Chile              2.0   \n",
       "\n",
       "     Away_Team_Goals Away_Team_Name Win_conditions  Half_time_Home_Goals  \\\n",
       "82               1.0          Italy                                  1.0   \n",
       "90               1.0        Belgium                                  1.0   \n",
       "92               1.0          Italy                                  1.0   \n",
       "143              0.0          Italy                                  0.0   \n",
       "147              0.0          Italy                                  0.0   \n",
       "\n",
       "     Half_time_Away_Goals  RoundID  MatchID Home_Team_Initials  \\\n",
       "82                    1.0    211.0   1300.0                SUI   \n",
       "90                    0.0    211.0   1243.0                ITA   \n",
       "92                    0.0    211.0   1301.0                SUI   \n",
       "143                   0.0    231.0   1507.0                FRG   \n",
       "147                   0.0    231.0   1472.0                CHI   \n",
       "\n",
       "    Away_Team_Initials Winner_Initials Home_Away_Winner  \n",
       "82                 ITA             SUI             Home  \n",
       "90                 BEL             ITA             Home  \n",
       "92                 ITA             SUI             Home  \n",
       "143                ITA               -                -  \n",
       "147                ITA             CHI             Home  "
      ]
     },
     "execution_count": 13,
     "metadata": {},
     "output_type": "execute_result"
    }
   ],
   "source": [
    "initials = dt.iloc[0]['Winner_Initials']\n",
    "date = dt.iloc[0]['Datetime']\n",
    "\n",
    "matches[\n",
    "    ((matches.Home_Team_Initials == initials) |\n",
    "     (matches.Away_Team_Initials == initials)) &\n",
    "    (matches.Datetime < date)\n",
    "].sort_values(by='Datetime').tail()"
   ]
  },
  {
   "cell_type": "code",
   "execution_count": 14,
   "id": "1a437033",
   "metadata": {},
   "outputs": [
    {
     "name": "stdout",
     "output_type": "stream",
     "text": [
      "Momentum (plus-minus strategy): -2\n",
      "Momentum (three points strategy): 4\n"
     ]
    }
   ],
   "source": [
    "print('Momentum (plus-minus strategy):', team_momentum(initials, date, matches, strategy=plus_minus_strategy))\n",
    "print('Momentum (three points strategy):', team_momentum(initials, date, matches, strategy=three_points_strategy))"
   ]
  },
  {
   "cell_type": "markdown",
   "id": "acb470e1",
   "metadata": {},
   "source": [
    "Great! That's exactly what our method is returning to us!\n",
    "\n",
    "Now we can calculate the momentum of all teams and the momentum difference between home and away teams for all matches."
   ]
  },
  {
   "cell_type": "code",
   "execution_count": 77,
   "id": "3bc67a31",
   "metadata": {
    "scrolled": true
   },
   "outputs": [],
   "source": [
    "matches['Home_Team_Momentum_pm'] = matches.apply(lambda s: team_momentum(s.Home_Team_Initials, s.Datetime, matches, strategy=plus_minus_strategy), axis=1)\n",
    "matches['Away_Team_Momentum_pm'] = matches.apply(lambda s: team_momentum(s.Away_Team_Initials, s.Datetime, matches, strategy=plus_minus_strategy), axis=1)\n",
    "matches['Diff_Momentum_pm'] = matches['Home_Team_Momentum_pm'] - matches['Away_Team_Momentum_pm']\n",
    "\n",
    "matches['Home_Team_Momentum_3p'] = matches.apply(lambda s: team_momentum(s.Home_Team_Initials, s.Datetime, matches, strategy=three_points_strategy), axis=1)\n",
    "matches['Away_Team_Momentum_3p'] = matches.apply(lambda s: team_momentum(s.Away_Team_Initials, s.Datetime, matches, strategy=three_points_strategy), axis=1)\n",
    "matches['Diff_Momentum_3p'] = matches['Home_Team_Momentum_3p'] - matches['Away_Team_Momentum_3p']\n",
    "\n",
    "# matches.sort_values('Datetime')"
   ]
  },
  {
   "cell_type": "markdown",
   "id": "964e2f9b",
   "metadata": {},
   "source": [
    "Now we can have a look at the distribution of the differences and see if it has any connection with the outcome of the matches. If they do have, we should expect that:\n",
    "\n",
    "* Matches with a high value of `Diff_Momentum` resulted mostly on home teams winning;\n",
    "* Likewise, matches with ver negative values of `Diff_Momentum` resulted mostly on away teams winning; and\n",
    "* Most ties occurred when `Diff_Momentum` was close to 0.\n",
    "\n",
    "Below, it is plotted the distributions of the difference for both strategies."
   ]
  },
  {
   "cell_type": "code",
   "execution_count": 86,
   "id": "5b21ce34",
   "metadata": {},
   "outputs": [
    {
     "data": {
      "image/png": "[encoded data removed]",
      "text/plain": [
       "<Figure size 576x432 with 1 Axes>"
      ]
     },
     "metadata": {},
     "output_type": "display_data"
    }
   ],
   "source": [
    "sns.violinplot(x='Home_Away_Winner', y='Diff_Momentum_pm', data=matches)\n",
    "plt.title('Plus-Minus Strategy')\n",
    "plt.show()"
   ]
  },
  {
   "cell_type": "code",
   "execution_count": 87,
   "id": "0ba3eb31",
   "metadata": {},
   "outputs": [
    {
     "data": {
      "image/png": "[encoded data removed]",
      "text/plain": [
       "<Figure size 576x432 with 1 Axes>"
      ]
     },
     "metadata": {},
     "output_type": "display_data"
    }
   ],
   "source": [
    "sns.violinplot(x='Home_Away_Winner', y='Diff_Momentum_3p', data=matches)\n",
    "plt.title('3 Points Strategy')\n",
    "plt.show()"
   ]
  },
  {
   "cell_type": "markdown",
   "id": "d47a25d3",
   "metadata": {},
   "source": [
    "Looks like the difference in the momentum of teams cannot be linked to the match result, since the distributions for each possible outcome are fairly similar. Thus, we can abandon the idea of using momentum as a feature."
   ]
  }
 ],
 "metadata": {
  "kernelspec": {
   "display_name": "Python 3 (ipykernel)",
   "language": "python",
   "name": "python3"
  },
  "language_info": {
   "codemirror_mode": {
    "name": "ipython",
    "version": 3
   },
   "file_extension": ".py",
   "mimetype": "text/x-python",
   "name": "python",
   "nbconvert_exporter": "python",
   "pygments_lexer": "ipython3",
   "version": "3.8.10"
  }
 },
 "nbformat": 4,
 "nbformat_minor": 5
}
